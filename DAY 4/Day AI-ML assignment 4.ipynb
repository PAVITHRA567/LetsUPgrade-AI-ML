{
 "cells": [
  {
   "cell_type": "markdown",
   "metadata": {},
   "source": [
    "QUESTION 1 \n",
    "RESEARCH ON WHETHER ADDITION,SUBTRACTION,MULTIPLICATION,DIVISION AND MODULO OPERSTIONS BE PERFORMED ON COMPLEX NUMBERS.BASED ON YOUR STUDY, IMPLEMENT A PYTHON PROGRAM TO DEMOSTRATE THESE OPERATION."
   ]
  },
  {
   "cell_type": "code",
   "execution_count": 17,
   "metadata": {},
   "outputs": [
    {
     "name": "stdout",
     "output_type": "stream",
     "text": [
      "1+5j\n",
      "5+7j\n",
      "enter an operand=*\n",
      "The value of a= (1+5j) The value of b= (5+7j)\n",
      "The multipliction of complex number= (-30+32j)\n"
     ]
    }
   ],
   "source": [
    "a=complex(input(\"\"))\n",
    "b=complex(input(\"\"))\n",
    "c=str(input(\"enter an operand=\"))\n",
    "print(\"The value of a=\",a,\"The value of b=\",b)\n",
    "if c=='+':\n",
    "    print(\"The addition of complex number=\",a+b)\n",
    "elif c=='-':\n",
    "    print(\"The subtraction of complex number=\",a-b)\n",
    "elif c=='*':\n",
    "    print(\"The multipliction of complex number=\",a*b)\n",
    "elif c=='/':\n",
    "    print(\"The division of complex number=\",a/b)\n",
    "c=\n",
    "else:\n",
    "    print(\"invalid operand\")\n",
    "    "
   ]
  },
  {
   "cell_type": "markdown",
   "metadata": {},
   "source": [
    "Complex numbers are numbers with a real and imaginary part.They are only worth nothing here because neither modulo nor floor division can accept a complex number as an operand.Trying to use a complex number for floor division or modulo operations will raise a typeerror"
   ]
  },
  {
   "cell_type": "markdown",
   "metadata": {},
   "source": [
    "QUESTION 2 RESEARCH ON range() AND ITS PARAMETERS. CREATE A MARKDOWN CELL AND WRITE IN YOUR OWN WORDS WHAT YOU UNDERSTAND ABOUT IT .IMPLEMENT A SMALL PROGRAM OF YOUR CHOICE ON SAME"
   ]
  },
  {
   "cell_type": "markdown",
   "metadata": {},
   "source": [
    "A range() is a bulit-in function in python,it perform the operation like for loop.it generates number one by one like loop.\n",
    "it generate number from frist number and excluding the last number for example range(1,5)-it generates numbers from  1 to 4"
   ]
  },
  {
   "cell_type": "code",
   "execution_count": 35,
   "metadata": {},
   "outputs": [
    {
     "name": "stdout",
     "output_type": "stream",
     "text": [
      "enter the value of n=9\n",
      "1\n",
      "2\n",
      "3\n",
      "4\n",
      "5\n",
      "6\n",
      "7\n",
      "8\n"
     ]
    }
   ],
   "source": [
    "n=int(input(\"enter the value of n=\"))\n",
    "for i in range(1,n):\n",
    "    print(i)"
   ]
  },
  {
   "cell_type": "markdown",
   "metadata": {},
   "source": [
    "QUESTION 3 \n",
    "CONSIDER TWO NUMBES.PERFORMS THEIR SUBTRACTION AND IF THE RESULT OF SUBSTRACTION IS GREATER THAN 25.PRINT MULTIPLICATION    THEIR RESULT ELSE PRINT THEIR DIVISION RESULT"
   ]
  },
  {
   "cell_type": "code",
   "execution_count": 43,
   "metadata": {},
   "outputs": [
    {
     "name": "stdout",
     "output_type": "stream",
     "text": [
      "100\n",
      "57\n",
      "Multiplication result is= 1075\n"
     ]
    }
   ],
   "source": [
    "x=int(input(\"\"))\n",
    "y=int(input(\"\"))\n",
    "z=x-y\n",
    "if(z>25):\n",
    "    print(\"Multiplication result is=\",z*25)\n",
    "else:\n",
    "    print(\"Division result is =\",z/25)"
   ]
  },
  {
   "cell_type": "markdown",
   "metadata": {},
   "source": [
    "QUESTION 4\n",
    "CONSIDER LIST OF 10 ELEMENTS OF INTEGER VALUES. IF THE NUMBER IN THE LIST IS DIVISIBLE BY 2,PRINT THE RESULT AS \"SQUARE OF THAT NUMBER MINUS 2\""
   ]
  },
  {
   "cell_type": "code",
   "execution_count": 70,
   "metadata": {},
   "outputs": [
    {
     "name": "stdout",
     "output_type": "stream",
     "text": [
      "square of  10 is 100 and 100 minus 2 is 98\n",
      "\t\n",
      "square of  40 is 1600 and 1600 minus 2 is 1598\n",
      "\t\n",
      "square of  50 is 2500 and 2500 minus 2 is 2498\n",
      "\t\n",
      "square of  60 is 3600 and 3600 minus 2 is 3598\n",
      "\t\n",
      "square of  70 is 4900 and 4900 minus 2 is 4898\n",
      "\t\n",
      "square of  80 is 6400 and 6400 minus 2 is 6398\n",
      "\t\n",
      "square of  100 is 10000 and 10000 minus 2 is 9998\n",
      "\t\n",
      "square of  120 is 14400 and 14400 minus 2 is 14398\n",
      "\t\n",
      "square of  200 is 40000 and 40000 minus 2 is 39998\n",
      "\t\n"
     ]
    }
   ],
   "source": [
    "lst=[10,35,40,50,60,70,80,100,120,200]\n",
    "for i in lst:\n",
    "    if(i%2==0):\n",
    "        print(\"square of \",i,\"is\" ,i**2,\"and\",i**2,\"minus 2 is\",i**2-2)\n",
    "        print(\"\\t\")\n",
    "    "
   ]
  },
  {
   "cell_type": "markdown",
   "metadata": {},
   "source": [
    "QUESTION 5 CONSIDER A LIST OF 10 ELEMENTS.PRINT ALL THE ELEMENTS IN THE LIST WHICH ARE GREATER THAN 7 WHEN THAT NUMBER IF DIVIDED 2"
   ]
  },
  {
   "cell_type": "code",
   "execution_count": 71,
   "metadata": {},
   "outputs": [
    {
     "name": "stdout",
     "output_type": "stream",
     "text": [
      "20\n",
      "38\n",
      "46\n",
      "57\n",
      "68\n",
      "70\n"
     ]
    }
   ],
   "source": [
    "l=[7,8,9,10,20,38,46,57,68,70]\n",
    "for i in l:\n",
    "    if(i/2>7):\n",
    "        print(i)"
   ]
  }
 ],
 "metadata": {
  "kernelspec": {
   "display_name": "Python 3",
   "language": "python",
   "name": "python3"
  },
  "language_info": {
   "codemirror_mode": {
    "name": "ipython",
    "version": 3
   },
   "file_extension": ".py",
   "mimetype": "text/x-python",
   "name": "python",
   "nbconvert_exporter": "python",
   "pygments_lexer": "ipython3",
   "version": "3.7.6"
  }
 },
 "nbformat": 4,
 "nbformat_minor": 4
}
