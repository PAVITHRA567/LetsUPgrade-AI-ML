{
  "nbformat": 4,
  "nbformat_minor": 0,
  "metadata": {
    "colab": {
      "name": "Project 10-Mask_detection_using_OpenCV.ipynb",
      "provenance": []
    },
    "kernelspec": {
      "name": "python3",
      "display_name": "Python 3"
    },
    "language_info": {
      "name": "python"
    }
  },
  "cells": [
    {
      "cell_type": "code",
      "metadata": {
        "colab": {
          "base_uri": "https://localhost:8080/"
        },
        "id": "feoDFSiiJu8a",
        "outputId": "6a16eb1e-becd-4cc0-8331-2d705f4c06b1"
      },
      "source": [
        "from google.colab import drive\n",
        "drive.mount('/content/gdrive')"
      ],
      "execution_count": 1,
      "outputs": [
        {
          "output_type": "stream",
          "text": [
            "Mounted at /content/gdrive\n"
          ],
          "name": "stdout"
        }
      ]
    },
    {
      "cell_type": "code",
      "metadata": {
        "colab": {
          "base_uri": "https://localhost:8080/"
        },
        "id": "YlU7gLPxKH7h",
        "outputId": "ca0202be-5adc-4cb3-949e-e635b57c2c20"
      },
      "source": [
        "import cv2,os\n",
        "\n",
        "data_path='/content/gdrive/MyDrive/Mask_Detection_using_OpenCV/train'\n",
        "categories=os.listdir(data_path)\n",
        "labels=[i for i in range(len(categories))]\n",
        "\n",
        "label_dict=dict(zip(categories,labels)) #empty dictionary\n",
        "\n",
        "print(label_dict)\n",
        "print(categories)\n",
        "print(labels)"
      ],
      "execution_count": 2,
      "outputs": [
        {
          "output_type": "stream",
          "text": [
            "{'without_mask': 0, 'with_mask': 1}\n",
            "['without_mask', 'with_mask']\n",
            "[0, 1]\n"
          ],
          "name": "stdout"
        }
      ]
    },
    {
      "cell_type": "code",
      "metadata": {
        "id": "czxYoYW7KPAy"
      },
      "source": [
        "img_size=100\n",
        "data=[]\n",
        "target=[]\n",
        "\n",
        "\n",
        "for category in categories:\n",
        "    folder_path=os.path.join(data_path,category)\n",
        "    img_names=os.listdir(folder_path)\n",
        "        \n",
        "    for img_name in img_names:\n",
        "        img_path=os.path.join(folder_path,img_name)\n",
        "        img=cv2.imread(img_path)\n",
        "\n",
        "        try:\n",
        "            gray=cv2.cvtColor(img,cv2.COLOR_BGR2GRAY)           \n",
        "            #Coverting the image into gray scale\n",
        "            resized=cv2.resize(gray,(img_size,img_size))\n",
        "            #resizing the gray scale into 50x50, since we need a fixed common size for all the images in the dataset\n",
        "            data.append(resized)\n",
        "            target.append(label_dict[category])\n",
        "            #appending the image and the label(categorized) into the list (dataset)\n",
        "\n",
        "        except Exception as e:\n",
        "            print('Exception:',e)\n",
        "            #if any exception rasied, the exception will be printed here. And pass to the next image"
      ],
      "execution_count": 3,
      "outputs": []
    },
    {
      "cell_type": "code",
      "metadata": {
        "id": "1bIA4WW0KUsI"
      },
      "source": [
        "import numpy as np\n",
        "\n",
        "data=np.array(data)/255.0\n",
        "data=np.reshape(data,(data.shape[0],img_size,img_size,1))\n",
        "target=np.array(target)\n",
        "\n",
        "from keras.utils import np_utils\n",
        "\n",
        "new_target=np_utils.to_categorical(target)"
      ],
      "execution_count": 4,
      "outputs": []
    },
    {
      "cell_type": "code",
      "metadata": {
        "id": "fegk7tCWKWJu"
      },
      "source": [
        "np.save('data',data)\n",
        "np.save('target',new_target)"
      ],
      "execution_count": 5,
      "outputs": []
    },
    {
      "cell_type": "code",
      "metadata": {
        "id": "QKJ-FHGuKZ6q"
      },
      "source": [
        "data=np.load('data.npy')\n",
        "target=np.load('target.npy')\n",
        "\n",
        "#loading the save numpy arrays in the previous code"
      ],
      "execution_count": 6,
      "outputs": []
    },
    {
      "cell_type": "code",
      "metadata": {
        "id": "uyLW_g9PKeFI"
      },
      "source": [
        "from keras.models import Sequential\n",
        "from keras.layers import Dense,Activation,Flatten,Dropout\n",
        "from keras.layers import Conv2D,MaxPooling2D\n",
        "from keras.callbacks import ModelCheckpoint\n",
        "\n",
        "model=Sequential()\n",
        "\n",
        "model.add(Conv2D(200,(3,3),input_shape=data.shape[1:]))\n",
        "model.add(Activation('relu'))\n",
        "model.add(MaxPooling2D(pool_size=(2,2)))\n",
        "#The first CNN layer followed by Relu and MaxPooling layers\n",
        "\n",
        "model.add(Conv2D(100,(3,3)))\n",
        "model.add(Activation('relu'))\n",
        "model.add(MaxPooling2D(pool_size=(2,2)))\n",
        "#The second convolution layer followed by Relu and MaxPooling layers\n",
        "\n",
        "model.add(Flatten())\n",
        "model.add(Dropout(0.5))\n",
        "#Flatten layer to stack the output convolutions from second convolution layer\n",
        "model.add(Dense(50,activation='relu'))\n",
        "#Dense layer of 64 neurons\n",
        "model.add(Dense(2,activation='softmax'))\n",
        "#The Final layer with two outputs for two categories\n",
        "\n",
        "model.compile(loss='categorical_crossentropy',optimizer='adam',metrics=['accuracy'])"
      ],
      "execution_count": 7,
      "outputs": []
    },
    {
      "cell_type": "code",
      "metadata": {
        "id": "VVNjltScKhvt"
      },
      "source": [
        "from sklearn.model_selection import train_test_split\n",
        "\n",
        "train_data,test_data,train_target,test_target=train_test_split(data,target,test_size=0.1)"
      ],
      "execution_count": 8,
      "outputs": []
    },
    {
      "cell_type": "code",
      "metadata": {
        "colab": {
          "base_uri": "https://localhost:8080/"
        },
        "id": "mqAiEbRFKlP7",
        "outputId": "fc81bf71-3078-40a0-a614-944161ecd933"
      },
      "source": [
        "checkpoint = ModelCheckpoint('model-{epoch:03d}.model',monitor='val_loss',verbose=0,save_best_only=True,mode='auto')\n",
        "history=model.fit(train_data,train_target,epochs=20,callbacks=[checkpoint],validation_split=0.2)"
      ],
      "execution_count": 9,
      "outputs": [
        {
          "output_type": "stream",
          "text": [
            "Epoch 1/20\n",
            "30/30 [==============================] - 68s 2s/step - loss: 0.7185 - accuracy: 0.4924 - val_loss: 0.6793 - val_accuracy: 0.5232\n",
            "INFO:tensorflow:Assets written to: model-001.model/assets\n",
            "Epoch 2/20\n",
            "30/30 [==============================] - 53s 2s/step - loss: 0.6193 - accuracy: 0.6489 - val_loss: 0.4122 - val_accuracy: 0.8312\n",
            "INFO:tensorflow:Assets written to: model-002.model/assets\n",
            "Epoch 3/20\n",
            "30/30 [==============================] - 53s 2s/step - loss: 0.3924 - accuracy: 0.8489 - val_loss: 0.3171 - val_accuracy: 0.8692\n",
            "INFO:tensorflow:Assets written to: model-003.model/assets\n",
            "Epoch 4/20\n",
            "30/30 [==============================] - 52s 2s/step - loss: 0.2722 - accuracy: 0.9029 - val_loss: 0.2948 - val_accuracy: 0.9114\n",
            "INFO:tensorflow:Assets written to: model-004.model/assets\n",
            "Epoch 5/20\n",
            "30/30 [==============================] - 53s 2s/step - loss: 0.2263 - accuracy: 0.9068 - val_loss: 0.3502 - val_accuracy: 0.8650\n",
            "Epoch 6/20\n",
            "30/30 [==============================] - 53s 2s/step - loss: 0.1906 - accuracy: 0.9146 - val_loss: 0.2757 - val_accuracy: 0.8987\n",
            "INFO:tensorflow:Assets written to: model-006.model/assets\n",
            "Epoch 7/20\n",
            "30/30 [==============================] - 53s 2s/step - loss: 0.1205 - accuracy: 0.9578 - val_loss: 0.2986 - val_accuracy: 0.9114\n",
            "Epoch 8/20\n",
            "30/30 [==============================] - 54s 2s/step - loss: 0.0868 - accuracy: 0.9768 - val_loss: 0.3180 - val_accuracy: 0.9156\n",
            "Epoch 9/20\n",
            "30/30 [==============================] - 52s 2s/step - loss: 0.0750 - accuracy: 0.9729 - val_loss: 0.4105 - val_accuracy: 0.8776\n",
            "Epoch 10/20\n",
            "30/30 [==============================] - 53s 2s/step - loss: 0.0863 - accuracy: 0.9599 - val_loss: 0.3305 - val_accuracy: 0.9114\n",
            "Epoch 11/20\n",
            "30/30 [==============================] - 53s 2s/step - loss: 0.0627 - accuracy: 0.9822 - val_loss: 0.3484 - val_accuracy: 0.9072\n",
            "Epoch 12/20\n",
            "30/30 [==============================] - 53s 2s/step - loss: 0.0560 - accuracy: 0.9755 - val_loss: 0.3153 - val_accuracy: 0.9241\n",
            "Epoch 13/20\n",
            "30/30 [==============================] - 53s 2s/step - loss: 0.0415 - accuracy: 0.9867 - val_loss: 0.4991 - val_accuracy: 0.8945\n",
            "Epoch 14/20\n",
            "30/30 [==============================] - 52s 2s/step - loss: 0.0906 - accuracy: 0.9639 - val_loss: 0.3545 - val_accuracy: 0.9114\n",
            "Epoch 15/20\n",
            "30/30 [==============================] - 52s 2s/step - loss: 0.1420 - accuracy: 0.9387 - val_loss: 0.3675 - val_accuracy: 0.8945\n",
            "Epoch 16/20\n",
            "30/30 [==============================] - 52s 2s/step - loss: 0.0520 - accuracy: 0.9831 - val_loss: 0.3705 - val_accuracy: 0.9072\n",
            "Epoch 17/20\n",
            "30/30 [==============================] - 53s 2s/step - loss: 0.0334 - accuracy: 0.9868 - val_loss: 0.4323 - val_accuracy: 0.9114\n",
            "Epoch 18/20\n",
            "30/30 [==============================] - 52s 2s/step - loss: 0.0457 - accuracy: 0.9824 - val_loss: 0.3743 - val_accuracy: 0.9156\n",
            "Epoch 19/20\n",
            "30/30 [==============================] - 52s 2s/step - loss: 0.0765 - accuracy: 0.9626 - val_loss: 0.3356 - val_accuracy: 0.9198\n",
            "Epoch 20/20\n",
            "30/30 [==============================] - 52s 2s/step - loss: 0.0379 - accuracy: 0.9864 - val_loss: 0.3847 - val_accuracy: 0.9156\n"
          ],
          "name": "stdout"
        }
      ]
    },
    {
      "cell_type": "code",
      "metadata": {
        "colab": {
          "base_uri": "https://localhost:8080/",
          "height": 279
        },
        "id": "YCYf6RwKKomH",
        "outputId": "2c508336-3eef-45eb-bfb3-732422a780e4"
      },
      "source": [
        "from matplotlib import pyplot as plt\n",
        "\n",
        "plt.plot(history.history['loss'],'r',label='training loss')\n",
        "plt.plot(history.history['val_loss'],label='validation loss')\n",
        "plt.xlabel('# epochs')\n",
        "plt.ylabel('loss')\n",
        "plt.legend()\n",
        "plt.show()\n"
      ],
      "execution_count": 10,
      "outputs": [
        {
          "output_type": "display_data",
          "data": {
            "image/png": "[encoded data removed]",
            "text/plain": [
              "<Figure size 432x288 with 1 Axes>"
            ]
          },
          "metadata": {
            "tags": [],
            "needs_background": "light"
          }
        }
      ]
    },
    {
      "cell_type": "code",
      "metadata": {
        "colab": {
          "base_uri": "https://localhost:8080/",
          "height": 279
        },
        "id": "in1pezhZKs1e",
        "outputId": "d7f1eb63-e388-4db5-c370-d14aa6a9a96d"
      },
      "source": [
        "plt.plot(history.history['accuracy'],'r',label='training accuracy')\n",
        "plt.plot(history.history['val_accuracy'],label='validation accuracy')\n",
        "plt.xlabel('# epochs')\n",
        "plt.ylabel('loss')\n",
        "plt.legend()\n",
        "plt.show()"
      ],
      "execution_count": 11,
      "outputs": [
        {
          "output_type": "display_data",
          "data": {
            "image/png": "[encoded data removed]",
            "text/plain": [
              "<Figure size 432x288 with 1 Axes>"
            ]
          },
          "metadata": {
            "tags": [],
            "needs_background": "light"
          }
        }
      ]
    },
    {
      "cell_type": "code",
      "metadata": {
        "colab": {
          "base_uri": "https://localhost:8080/"
        },
        "id": "PgvOl6EdKwrC",
        "outputId": "19569da6-f7c5-43cd-b10a-af3d44083c74"
      },
      "source": [
        "print(model.evaluate(test_data,test_target))"
      ],
      "execution_count": 12,
      "outputs": [
        {
          "output_type": "stream",
          "text": [
            "5/5 [==============================] - 2s 361ms/step - loss: 0.2750 - accuracy: 0.9242\n",
            "[0.27499836683273315, 0.9242424368858337]\n"
          ],
          "name": "stdout"
        }
      ]
    },
    {
      "cell_type": "code",
      "metadata": {
        "id": "-OaK3C3VK0gt"
      },
      "source": [
        "import cv2\n",
        "import numpy as np\n",
        "from keras.models import load_model"
      ],
      "execution_count": 13,
      "outputs": []
    },
    {
      "cell_type": "code",
      "metadata": {
        "id": "4WhhvzDlK45y"
      },
      "source": [
        "import tensorflow as tf"
      ],
      "execution_count": 14,
      "outputs": []
    },
    {
      "cell_type": "code",
      "metadata": {
        "id": "V0QdPY_XK9L6"
      },
      "source": [
        "from keras.optimizers import RMSprop\n",
        "from keras.preprocessing.image import ImageDataGenerator\n",
        "import cv2\n",
        "from keras.models import Sequential\n",
        "from keras.layers import Conv2D, Input, ZeroPadding2D, BatchNormalization, Activation, MaxPooling2D, Flatten, Dense,Dropout\n",
        "from keras.models import Model, load_model\n",
        "from keras.callbacks import TensorBoard, ModelCheckpoint\n",
        "from sklearn.model_selection import train_test_split\n",
        "from sklearn.metrics import f1_score\n",
        "from sklearn.utils import shuffle\n",
        "import imutils\n",
        "import numpy as np"
      ],
      "execution_count": 15,
      "outputs": []
    },
    {
      "cell_type": "code",
      "metadata": {
        "id": "4PlgJ1qGLAj9"
      },
      "source": [
        "from keras.preprocessing.image import ImageDataGenerator,array_to_img,img_to_array,load_img\n",
        "import matplotlib as mt\n",
        "train_datagen=ImageDataGenerator()\n",
        "\n",
        "test_datagen= ImageDataGenerator(rescale=1./255)"
      ],
      "execution_count": 16,
      "outputs": []
    },
    {
      "cell_type": "code",
      "metadata": {
        "colab": {
          "base_uri": "https://localhost:8080/"
        },
        "id": "IzJkolGJLFBW",
        "outputId": "221c4e06-a0d9-4ba2-f8e7-5afea67eeae5"
      },
      "source": [
        "batch_size=10\n",
        "train_data=train_datagen.flow_from_directory(\n",
        "'/content/gdrive/MyDrive/Mask_Detection_using_OpenCV/train',\n",
        "target_size=(150,150),\n",
        "batch_size=batch_size,\n",
        "class_mode='binary')"
      ],
      "execution_count": 17,
      "outputs": [
        {
          "output_type": "stream",
          "text": [
            "Found 1315 images belonging to 2 classes.\n"
          ],
          "name": "stdout"
        }
      ]
    },
    {
      "cell_type": "code",
      "metadata": {
        "colab": {
          "base_uri": "https://localhost:8080/"
        },
        "id": "T4N6czTOLI9v",
        "outputId": "69cf672d-038c-463b-d1f3-86c85e658fa6"
      },
      "source": [
        "test_data=test_datagen.flow_from_directory(\n",
        "'/content/gdrive/MyDrive/Mask_Detection_using_OpenCV/test/',\n",
        "target_size=(150,150),\n",
        "batch_size=batch_size,\n",
        "class_mode='binary')"
      ],
      "execution_count": 18,
      "outputs": [
        {
          "output_type": "stream",
          "text": [
            "Found 194 images belonging to 2 classes.\n"
          ],
          "name": "stdout"
        }
      ]
    },
    {
      "cell_type": "code",
      "metadata": {
        "id": "PtHF9I6lLMWf"
      },
      "source": [
        "model = Sequential([\n",
        "    Conv2D(100, (3,3), activation='relu', input_shape=(150, 150, 3)),\n",
        "    MaxPooling2D(2,2),\n",
        "    \n",
        "    Conv2D(100, (3,3), activation='relu'),\n",
        "    MaxPooling2D(2,2),\n",
        "    \n",
        "    Flatten(),\n",
        "    Dropout(0.5),\n",
        "    Dense(50, activation='relu'),\n",
        "    Dense(2, activation='softmax')\n",
        "])"
      ],
      "execution_count": 19,
      "outputs": []
    },
    {
      "cell_type": "code",
      "metadata": {
        "id": "Dojzb6h8LQlZ"
      },
      "source": [
        "model.compile(optimizer='adam', loss='binary_crossentropy', metrics=['acc'])"
      ],
      "execution_count": 20,
      "outputs": []
    },
    {
      "cell_type": "code",
      "metadata": {
        "id": "6-juwZGeLU4s"
      },
      "source": [
        "checkpoint = ModelCheckpoint('model2-{epoch:03d}.model',monitor='val_loss',\n",
        "                             verbose=0,save_best_only=True,mode='auto')"
      ],
      "execution_count": 21,
      "outputs": []
    },
    {
      "cell_type": "code",
      "metadata": {
        "id": "UQ201E8bLayo"
      },
      "source": [
        "model.save('mask_project.h5')"
      ],
      "execution_count": 22,
      "outputs": []
    },
    {
      "cell_type": "code",
      "metadata": {
        "id": "v65xJ-05LcD1"
      },
      "source": [
        "import cv2\n",
        "import numpy as np\n",
        "from keras.models import load_model"
      ],
      "execution_count": 23,
      "outputs": []
    },
    {
      "cell_type": "code",
      "metadata": {
        "id": "eYbpDhWMLfZ7"
      },
      "source": [
        "import tensorflow as tf"
      ],
      "execution_count": 24,
      "outputs": []
    },
    {
      "cell_type": "code",
      "metadata": {
        "id": "vCXAdaj2LiuW"
      },
      "source": [
        "model = tf.keras.models.load_model('mask_project.h5')"
      ],
      "execution_count": 25,
      "outputs": []
    },
    {
      "cell_type": "code",
      "metadata": {
        "colab": {
          "base_uri": "https://localhost:8080/",
          "height": 231
        },
        "id": "PSwQcOlQLmM-",
        "outputId": "58cfcee3-6511-440c-a35a-75a1c3b8dee0"
      },
      "source": [
        "import cv2\n",
        "import numpy as np\n",
        "from keras.models import load_model\n",
        "model = tf.keras.models.load_model('mask_project.h5')\n",
        "\n",
        "results={0:'without mask',1:'mask'}\n",
        "GR_dict={0:(0,0,255),1:(0,255,0)}\n",
        "\n",
        "rect_size = 4\n",
        "cap = cv2.VideoCapture(0) \n",
        "\n",
        "\n",
        "haarcascade = cv2.CascadeClassifier('haarcascade_frontalface_default.xml')\n",
        "\n",
        "while True:\n",
        "    (rval, im) = cap.read()\n",
        "    im=cv2.flip(im,1,1) \n",
        "\n",
        "    \n",
        "    rerect_size = cv2.resize(im, (im.shape[1] // rect_size, im.shape[0] // rect_size))\n",
        "    faces = haarcascade.detectMultiScale(rerect_size)\n",
        "    for f in faces:\n",
        "        (x, y, w, h) = [v * rect_size for v in f] \n",
        "        \n",
        "        face_img = im[y:y+h, x:x+w]\n",
        "        rerect_sized=cv2.resize(face_img,(150,150))\n",
        "        normalized=rerect_sized/255.0\n",
        "        reshaped=np.reshape(normalized,(1,150,150,3))\n",
        "        reshaped = np.vstack([reshaped])\n",
        "        result=model.predict(reshaped)\n",
        "\n",
        "        \n",
        "        label=np.argmax(result,axis=1)[0]\n",
        "      \n",
        "        cv2.rectangle(im,(x,y),(x+w,y+h),GR_dict[label],2)\n",
        "        cv2.rectangle(im,(x,y-40),(x+w,y),GR_dict[label],-1)\n",
        "        cv2.putText(im, results[label], (x, y-10),cv2.FONT_HERSHEY_SIMPLEX,0.8,(255,255,255),2)\n",
        "\n",
        "    cv2.imshow('LIVE',   im)\n",
        "    key = cv2.waitKey(10)\n",
        "    \n",
        "    if key == 27: \n",
        "        break\n",
        "\n",
        "cap.release()\n",
        "\n",
        "cv2.destroyAllWindows()"
      ],
      "execution_count": 26,
      "outputs": [
        {
          "output_type": "error",
          "ename": "AttributeError",
          "evalue": "ignored",
          "traceback": [
            "\u001b[0;31m---------------------------------------------------------------------------\u001b[0m",
            "\u001b[0;31mAttributeError\u001b[0m                            Traceback (most recent call last)",
            "\u001b[0;32m<ipython-input-26-86ff387e3254>\u001b[0m in \u001b[0;36m<module>\u001b[0;34m()\u001b[0m\n\u001b[1;32m     18\u001b[0m \u001b[0;34m\u001b[0m\u001b[0m\n\u001b[1;32m     19\u001b[0m \u001b[0;34m\u001b[0m\u001b[0m\n\u001b[0;32m---> 20\u001b[0;31m     \u001b[0mrerect_size\u001b[0m \u001b[0;34m=\u001b[0m \u001b[0mcv2\u001b[0m\u001b[0;34m.\u001b[0m\u001b[0mresize\u001b[0m\u001b[0;34m(\u001b[0m\u001b[0mim\u001b[0m\u001b[0;34m,\u001b[0m \u001b[0;34m(\u001b[0m\u001b[0mim\u001b[0m\u001b[0;34m.\u001b[0m\u001b[0mshape\u001b[0m\u001b[0;34m[\u001b[0m\u001b[0;36m1\u001b[0m\u001b[0;34m]\u001b[0m \u001b[0;34m//\u001b[0m \u001b[0mrect_size\u001b[0m\u001b[0;34m,\u001b[0m \u001b[0mim\u001b[0m\u001b[0;34m.\u001b[0m\u001b[0mshape\u001b[0m\u001b[0;34m[\u001b[0m\u001b[0;36m0\u001b[0m\u001b[0;34m]\u001b[0m \u001b[0;34m//\u001b[0m \u001b[0mrect_size\u001b[0m\u001b[0;34m)\u001b[0m\u001b[0;34m)\u001b[0m\u001b[0;34m\u001b[0m\u001b[0;34m\u001b[0m\u001b[0m\n\u001b[0m\u001b[1;32m     21\u001b[0m     \u001b[0mfaces\u001b[0m \u001b[0;34m=\u001b[0m \u001b[0mhaarcascade\u001b[0m\u001b[0;34m.\u001b[0m\u001b[0mdetectMultiScale\u001b[0m\u001b[0;34m(\u001b[0m\u001b[0mrerect_size\u001b[0m\u001b[0;34m)\u001b[0m\u001b[0;34m\u001b[0m\u001b[0;34m\u001b[0m\u001b[0m\n\u001b[1;32m     22\u001b[0m     \u001b[0;32mfor\u001b[0m \u001b[0mf\u001b[0m \u001b[0;32min\u001b[0m \u001b[0mfaces\u001b[0m\u001b[0;34m:\u001b[0m\u001b[0;34m\u001b[0m\u001b[0;34m\u001b[0m\u001b[0m\n",
            "\u001b[0;31mAttributeError\u001b[0m: 'NoneType' object has no attribute 'shape'"
          ]
        }
      ]
    }
  ]
}