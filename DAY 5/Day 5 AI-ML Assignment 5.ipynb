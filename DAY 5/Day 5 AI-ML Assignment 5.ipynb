{
 "cells": [
  {
   "cell_type": "markdown",
   "metadata": {},
   "source": [
    "QUESTION 1\n",
    "WRITE A  PYTHON PROGRAM  TO FIND THE FRIST 20 NON EVEN PRIME NATURAL NUMBERS\n",
    "        "
   ]
  },
  {
   "cell_type": "code",
   "execution_count": 6,
   "metadata": {},
   "outputs": [
    {
     "name": "stdout",
     "output_type": "stream",
     "text": [
      "enter the prime numbers would you want:20\n",
      "\n",
      "The frist 20 non-even prime numbers are:\n",
      "\n",
      "3 5 7 11 13 17 19 23 29 31 37 41 43 47 53 59 61 67 71 73 "
     ]
    }
   ],
   "source": [
    "a=int(input(\"enter the prime numbers would you want:\"))\n",
    "b=range(1,a*10)\n",
    "prime_num=[]\n",
    "for i in b:\n",
    "    if i>2 and len(prime_num)<=a-1:\n",
    "        for c in range(2,i):\n",
    "            if(i%c)==0:\n",
    "                break\n",
    "        else:\n",
    "            prime_num.append(i)\n",
    "print(\"\\nThe frist\",a,\"non-even prime numbers are:\\n\")\n",
    "for d in prime_num:\n",
    "    print(d,end=\" \")"
   ]
  },
  {
   "cell_type": "markdown",
   "metadata": {},
   "source": [
    "question 2\n",
    "write a python program to implement 15 function of string"
   ]
  },
  {
   "cell_type": "code",
   "execution_count": 28,
   "metadata": {},
   "outputs": [
    {
     "name": "stdout",
     "output_type": "stream",
     "text": [
      "enter the string:\"LetsUPgrade\"\n",
      "my name is \"LetsUPgrade\"\n",
      "\"letsupgrade\"\n",
      "\"LETSUPGRADE\"\n",
      "\"letsupgrade\"\n",
      "False\n",
      "False\n",
      "False\n",
      "False\n",
      "\"lETSupGRADE\"\n",
      "\"@L@e@t@s@U@P@g@r@a@d@e@\"\n",
      "\"LotsUPgrado\"\n",
      "('\"LetsUPgrade\"', '', '')\n",
      "-1\n",
      "\"Letsupgrade\"\n",
      "False\n"
     ]
    }
   ],
   "source": [
    "name=str(input(\"enter the string:\"))\n",
    "print(\"my name is {0}\".format(name))\n",
    "print(name.lower())\n",
    "print(name.upper())\n",
    "print(name.capitalize())\n",
    "print(name.isalnum())\n",
    "print(name.isalpha())\n",
    "print(name.isdigit())\n",
    "print(name.istitle())\n",
    "print(name.swapcase())\n",
    "print(\"@\".join(name))\n",
    "print(name.replace(\"e\",\"o\"))\n",
    "print(name.partition(\"up\"))\n",
    "print(name.rfind(\"let\"))\n",
    "print(name.title())\n",
    "print(name.isdecimal())\n"
   ]
  },
  {
   "cell_type": "markdown",
   "metadata": {},
   "source": [
    "QUESTION 3\n",
    "WRITE A PROGRAM TO CHECK IF GIVEN STRING IS A PALINDROME OR ANAGRAM OR NONE OF THEM.DISPLAY THE MESSAGE ACCORDINGLY TO THE USER"
   ]
  },
  {
   "cell_type": "code",
   "execution_count": 1,
   "metadata": {},
   "outputs": [
    {
     "name": "stdout",
     "output_type": "stream",
     "text": [
      " mom\n",
      " dad\n",
      "enter the choice1\n",
      "the given string is palindrome\n"
     ]
    }
   ],
   "source": [
    "a=str(input(\" \"))\n",
    "b=str(input(\" \"))\n",
    "def name():\n",
    "    s=int(input(\"enter the choice\"))\n",
    "    if s==1:\n",
    "        if a==a[::-1]:\n",
    "            print(\"the given string is palindrome\")\n",
    "    elif s==2:\n",
    "        if(sorted(a)==sorted(b)):\n",
    "            print(\"the given string is anagram\")\n",
    "    else:\n",
    "        print(\"none of them\")\n",
    "name()"
   ]
  },
  {
   "cell_type": "markdown",
   "metadata": {},
   "source": [
    "QUESTION 4\n",
    "WRITE A PYHON'S USER DEFINED FUNCTION THAT REMOVES ALL THE ADDITIONAL CHARACTERS FROM THE STRING AND CONVERT IF FINALLY TO LOWER CASE USING BUILT-IN LOWER().EG:IF THE STRING IS \"Dr.Darshan Ingle @AI-ML Trainer\",then the output be \"drdarshaningle aimltrainer\"\n"
   ]
  },
  {
   "cell_type": "code",
   "execution_count": null,
   "metadata": {},
   "outputs": [],
   "source": [
    "def remove_name(r):\n",
    "    additional_characters_to_remove=\" .@-<>*&$#!*+-:;_' '?%\"\n",
    "    new_name=r\n",
    "    for name in additional_characters_to_remove:\n",
    "        new_name=new_name.lower().replace(name,\"\")\n",
    "    print(new_name)\n",
    "remove_name(str(input(\"enter the string:\")))"
   ]
  },
  {
   "cell_type": "code",
   "execution_count": null,
   "metadata": {},
   "outputs": [],
   "source": []
  }
 ],
 "metadata": {
  "kernelspec": {
   "display_name": "Python 3",
   "language": "python",
   "name": "python3"
  },
  "language_info": {
   "codemirror_mode": {
    "name": "ipython",
    "version": 3
   },
   "file_extension": ".py",
   "mimetype": "text/x-python",
   "name": "python",
   "nbconvert_exporter": "python",
   "pygments_lexer": "ipython3",
   "version": "3.7.6"
  }
 },
 "nbformat": 4,
 "nbformat_minor": 4
}
