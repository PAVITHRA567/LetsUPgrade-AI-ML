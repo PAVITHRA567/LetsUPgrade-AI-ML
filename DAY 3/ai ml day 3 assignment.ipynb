{
 "cells": [
  {
   "cell_type": "markdown",
   "metadata": {},
   "source": [
    "QUESTION 1 PROGRAM TO SUBSTRACT TWO COMPLEX NUMBERS IN PYTHON"
   ]
  },
  {
   "cell_type": "code",
   "execution_count": 2,
   "metadata": {},
   "outputs": [
    {
     "name": "stdout",
     "output_type": "stream",
     "text": [
      "5+9j\n",
      "6-8j\n",
      "the value of a= (5+9j) the value of b= (6-8j)\n",
      "subtraction of two complex number is = (-1+17j)\n"
     ]
    }
   ],
   "source": [
    "a=complex(input(\"\"))\n",
    "b=complex(input(\"\"))\n",
    "print(\"the value of a=\",a,\"the value of b=\",b)\n",
    "print(\"subtraction of two complex number is =\",a-b)"
   ]
  },
  {
   "cell_type": "markdown",
   "metadata": {},
   "source": [
    "QUESTION 2 PROGRAM TO FIND THE FOURTH ROOT OF A NUMBER"
   ]
  },
  {
   "cell_type": "code",
   "execution_count": 3,
   "metadata": {},
   "outputs": [
    {
     "name": "stdout",
     "output_type": "stream",
     "text": [
      "625\n",
      "the value of number= 625\n",
      "The fourth root of the number= 5.0\n"
     ]
    }
   ],
   "source": [
    "number=int(input(\"\"))\n",
    "fourth_root=number**0.25\n",
    "print(\"the value of number=\",number)\n",
    "print(\"The fourth root of the number=\",fourth_root)"
   ]
  },
  {
   "cell_type": "markdown",
   "metadata": {},
   "source": [
    "QUESTION 3 PROGRAM TO SWAP TWO NUMBERS IN PYTHON WITH THE HELP OF A TEMPORARY VARIABLE"
   ]
  },
  {
   "cell_type": "code",
   "execution_count": 4,
   "metadata": {},
   "outputs": [
    {
     "name": "stdout",
     "output_type": "stream",
     "text": [
      "50\n",
      "100\n",
      " The previous value of x= 50 ,The previous value of y= 100\n",
      "After swaping the value of x= 100 ,After swaping the value of y= 50\n"
     ]
    }
   ],
   "source": [
    "x=int(input(\"\"))\n",
    "y=int(input(\"\"))\n",
    "print(\" The previous value of x=\",x,\",The previous value of y=\",y)\n",
    "temp=x\n",
    "x=y\n",
    "y=temp\n",
    "print(\"After swaping the value of x=\",x,\",After swaping the value of y=\",y)"
   ]
  },
  {
   "cell_type": "markdown",
   "metadata": {},
   "source": [
    "QUESTION 4 PROGRAM TO SWAP TWO NUMBERS IN PYTHON WITHOUT USING A TEMPORARY VARIABLE"
   ]
  },
  {
   "cell_type": "code",
   "execution_count": 5,
   "metadata": {},
   "outputs": [
    {
     "name": "stdout",
     "output_type": "stream",
     "text": [
      " 60\n",
      " 45\n",
      " The previous value of P= 60 ,The previous value of Q= 45\n",
      "After swaping the value of P= 45 ,After swaping the value of Q= 60\n"
     ]
    }
   ],
   "source": [
    "P=int(input(\" \"))\n",
    "Q=int(input(\" \"))\n",
    "print(\" The previous value of P=\",P,\",The previous value of Q=\",Q)\n",
    "P,Q=Q,P\n",
    "print(\"After swaping the value of P=\",P,\",After swaping the value of Q=\",Q)"
   ]
  },
  {
   "cell_type": "markdown",
   "metadata": {},
   "source": [
    "QUESTION 5 PROGRAM TO CONVERT FAHRENHEIT TO KELVIN AND CELSIUS BOTH"
   ]
  },
  {
   "cell_type": "code",
   "execution_count": 6,
   "metadata": {},
   "outputs": [
    {
     "name": "stdout",
     "output_type": "stream",
     "text": [
      " 500\n",
      "The value of fahrenheit to kelvin = 533.5\n",
      "the value of fahrenheit to celsius = 468.55555555555554\n",
      "the value of kelvin to celsius = 260.35\n"
     ]
    }
   ],
   "source": [
    "F=float(input(\" \"))\n",
    "kelvin=273.5+((F-32.0)*(5.0/9.0))\n",
    "fahrenheit_to_celsius=(5/9)+(F-32)\n",
    "kelvin_to_celsius=kelvin-273.15\n",
    "print(\"The value of fahrenheit to kelvin =\",kelvin)\n",
    "print(\"the value of fahrenheit to celsius =\",fahrenheit_to_celsius)\n",
    "print(\"the value of kelvin to celsius =\",kelvin_to_celsius)"
   ]
  },
  {
   "cell_type": "markdown",
   "metadata": {},
   "source": [
    "QUESTION 6 DEMOSTRATE ALL VARIABLE DATA TYPE IN PYTHON"
   ]
  },
  {
   "cell_type": "code",
   "execution_count": 7,
   "metadata": {},
   "outputs": [
    {
     "data": {
      "text/plain": [
       "int"
      ]
     },
     "execution_count": 7,
     "metadata": {},
     "output_type": "execute_result"
    }
   ],
   "source": [
    "a=34\n",
    "type(a)"
   ]
  },
  {
   "cell_type": "code",
   "execution_count": 9,
   "metadata": {},
   "outputs": [
    {
     "name": "stdout",
     "output_type": "stream",
     "text": [
      "the value of  b= 567.98\n"
     ]
    },
    {
     "data": {
      "text/plain": [
       "float"
      ]
     },
     "execution_count": 9,
     "metadata": {},
     "output_type": "execute_result"
    }
   ],
   "source": [
    "b=567.98\n",
    "print(\"the value of  b=\",b)\n",
    "type(b)"
   ]
  },
  {
   "cell_type": "code",
   "execution_count": 11,
   "metadata": {},
   "outputs": [
    {
     "name": "stdout",
     "output_type": "stream",
     "text": [
      "the value of d= (5+9j)\n"
     ]
    },
    {
     "data": {
      "text/plain": [
       "complex"
      ]
     },
     "execution_count": 11,
     "metadata": {},
     "output_type": "execute_result"
    }
   ],
   "source": [
    "d=5+9j\n",
    "print(\"the value of d=\",d)\n",
    "type(d)"
   ]
  },
  {
   "cell_type": "code",
   "execution_count": 12,
   "metadata": {},
   "outputs": [
    {
     "name": "stdout",
     "output_type": "stream",
     "text": [
      "[5, 7, 8]\n"
     ]
    },
    {
     "data": {
      "text/plain": [
       "list"
      ]
     },
     "execution_count": 12,
     "metadata": {},
     "output_type": "execute_result"
    }
   ],
   "source": [
    "p=[5,7,8]\n",
    "print(p)\n",
    "type(p)"
   ]
  },
  {
   "cell_type": "code",
   "execution_count": 13,
   "metadata": {},
   "outputs": [
    {
     "name": "stdout",
     "output_type": "stream",
     "text": [
      "{'name': 'pavi', 'place': 'banglore'}\n"
     ]
    },
    {
     "data": {
      "text/plain": [
       "dict"
      ]
     },
     "execution_count": 13,
     "metadata": {},
     "output_type": "execute_result"
    }
   ],
   "source": [
    "q={\"name\" : \"pavi\",\"place\":\"banglore\"}\n",
    "print(q)\n",
    "type(q)"
   ]
  },
  {
   "cell_type": "code",
   "execution_count": 14,
   "metadata": {},
   "outputs": [
    {
     "name": "stdout",
     "output_type": "stream",
     "text": [
      "(1, 2, 3, 4, 5)\n"
     ]
    },
    {
     "data": {
      "text/plain": [
       "tuple"
      ]
     },
     "execution_count": 14,
     "metadata": {},
     "output_type": "execute_result"
    }
   ],
   "source": [
    "r=(1,2,3,4,5)\n",
    "print(r)\n",
    "type(r)"
   ]
  },
  {
   "cell_type": "code",
   "execution_count": 15,
   "metadata": {},
   "outputs": [
    {
     "name": "stdout",
     "output_type": "stream",
     "text": [
      "{1, 'hello', 'hi'}\n"
     ]
    },
    {
     "data": {
      "text/plain": [
       "set"
      ]
     },
     "execution_count": 15,
     "metadata": {},
     "output_type": "execute_result"
    }
   ],
   "source": [
    "s={1,\"hi\",\"hello\"}\n",
    "print(s)\n",
    "type(s)"
   ]
  },
  {
   "cell_type": "code",
   "execution_count": 16,
   "metadata": {},
   "outputs": [
    {
     "name": "stdout",
     "output_type": "stream",
     "text": [
      "Hi all i am learning AL/ML with letsupgrade\n"
     ]
    },
    {
     "data": {
      "text/plain": [
       "str"
      ]
     },
     "execution_count": 16,
     "metadata": {},
     "output_type": "execute_result"
    }
   ],
   "source": [
    "v=\"Hi all i am learning AL/ML with letsupgrade\"\n",
    "print(v)\n",
    "type(v)"
   ]
  },
  {
   "cell_type": "markdown",
   "metadata": {},
   "source": [
    "QUESTION 5 STEPS FOR CREATINF GITUP PROFILE AND UPLOAD GITUPS ASSIGNMENT LINK"
   ]
  },
  {
   "cell_type": "markdown",
   "metadata": {},
   "source": [
    "*frist we open the githup and then signup with filling details *after creating githup profile , create a githup public repository *name that repository as LetsUPgrade AI/ML *In above repository upload the files or solution in day wise manner *copy the URL of the floder of that day and paste in the google form"
   ]
  }
 ],
 "metadata": {
  "kernelspec": {
   "display_name": "Python 3",
   "language": "python",
   "name": "python3"
  },
  "language_info": {
   "codemirror_mode": {
    "name": "ipython",
    "version": 3
   },
   "file_extension": ".py",
   "mimetype": "text/x-python",
   "name": "python",
   "nbconvert_exporter": "python",
   "pygments_lexer": "ipython3",
   "version": "3.7.6"
  }
 },
 "nbformat": 4,
 "nbformat_minor": 4
}
